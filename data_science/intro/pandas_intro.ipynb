{
 "cells": [
  {
   "cell_type": "markdown",
   "metadata": {
    "toc": "true"
   },
   "source": [
    "# Table of Contents\n",
    " <p><div class=\"lev1 toc-item\"><a href=\"#Pandas-intro\" data-toc-modified-id=\"Pandas-intro-1\"><span class=\"toc-item-num\">1&nbsp;&nbsp;</span>Pandas intro</a></div><div class=\"lev1 toc-item\"><a href=\"#Data-reading\" data-toc-modified-id=\"Data-reading-2\"><span class=\"toc-item-num\">2&nbsp;&nbsp;</span>Data reading</a></div><div class=\"lev1 toc-item\"><a href=\"#Basic-data-manipulation\" data-toc-modified-id=\"Basic-data-manipulation-3\"><span class=\"toc-item-num\">3&nbsp;&nbsp;</span>Basic data manipulation</a></div><div class=\"lev1 toc-item\"><a href=\"#Basic-data-exploration-&amp;-statistics\" data-toc-modified-id=\"Basic-data-exploration-&amp;-statistics-4\"><span class=\"toc-item-num\">4&nbsp;&nbsp;</span>Basic data exploration &amp; statistics</a></div><div class=\"lev1 toc-item\"><a href=\"#Dealing-with-missing-data\" data-toc-modified-id=\"Dealing-with-missing-data-5\"><span class=\"toc-item-num\">5&nbsp;&nbsp;</span>Dealing with missing data</a></div>"
   ]
  },
  {
   "cell_type": "markdown",
   "metadata": {},
   "source": [
    "# Pandas intro"
   ]
  },
  {
   "cell_type": "markdown",
   "metadata": {},
   "source": [
    "This notebook is intended to teach you some basics of Pandas - core library for data mangement and interaction in data science.\n",
    "\n",
    "As with previous excercise notebooks, your task is to fill all examples with the right code, so **assertions** will pass\n",
    "\n",
    "This time however, sometimes you'll have to print something to compare outputs. We won't be testing this using assertions, just visually - take a look on the **EXPECTED OUTPUT** section after such excercises, to check if your solution is ok.\n",
    "\n",
    "Search for **'??'** in the code and replace them with proper (contextual) content.\n",
    "\n",
    "**GOOD LUCK** :)"
   ]
  },
  {
   "cell_type": "code",
   "execution_count": 46,
   "metadata": {
    "collapsed": true
   },
   "outputs": [],
   "source": [
    "import pandas as pd\n",
    "import numpy as np\n",
    "from numpy import dtype"
   ]
  },
  {
   "cell_type": "markdown",
   "metadata": {},
   "source": [
    "# Data reading"
   ]
  },
  {
   "cell_type": "code",
   "execution_count": 17,
   "metadata": {},
   "outputs": [],
   "source": [
    "# Fill the code, to read data frame content from dictionary\n",
    "\n",
    "my_dict = {\n",
    "    'name': ['Smith', 'Neo', 'Morpheus', 'Oracle'],\n",
    "    'age': [None, 35, 40, 999],\n",
    "    'role': ['Agent', 'The Chosen', 'Capitan of Nebuchadnezzar', 'The Oracle']\n",
    "}\n",
    "\n",
    "df1 = pd.DataFrame.'??'\n",
    "\n",
    "print(df1)\n",
    "\n",
    "assert(df1.columns.tolist() == ['age', 'name', 'role'])\n",
    "assert(df1.name.values.tolist() == ['Smith', 'Neo', 'Morpheus', 'Oracle'])\n",
    "assert(np.nan_to_num(df1.age.values).tolist() == [0.0, 35.0, 40.0, 999.0])\n",
    "assert(df1.role.values.tolist() == ['Agent', 'The Chosen', 'Capitan of Nebuchadnezzar', 'The Oracle'])"
   ]
  },
  {
   "cell_type": "code",
   "execution_count": 29,
   "metadata": {},
   "outputs": [
    {
     "name": "stdout",
     "output_type": "stream",
     "text": [
      "       name    age                       role\n",
      "0     Smith    NaN                      Agent\n",
      "1       Neo   35.0                 The Chosen\n",
      "2  Morpheus   40.0  Capitan of Nebuchadnezzar\n",
      "3    Oracle  999.0                 The Oracle\n"
     ]
    }
   ],
   "source": [
    "# Fill the code to read the data from file\n",
    "# remember about headers, indexes and separators!\n",
    "\n",
    "df2 = pd.DataFrame.'?'\n",
    "\n",
    "print(df2)\n",
    "\n",
    "assert(df2.columns.tolist() == ['name', 'age', 'role'])\n",
    "assert(df2.name.values.tolist() == ['Smith', 'Neo', 'Morpheus', 'Oracle'])\n",
    "assert(np.nan_to_num(df2.age.values).tolist() == [0.0, 35.0, 40.0, 999.0])\n",
    "assert(df2.role.values.tolist() == ['Agent', 'The Chosen', 'Capitan of Nebuchadnezzar', 'The Oracle'])"
   ]
  },
  {
   "cell_type": "code",
   "execution_count": null,
   "metadata": {},
   "outputs": [],
   "source": [
    "# Read titanic data, then get columns sorted ascending. Check data types for each column\n",
    "\n",
    "titanic_df = pd.DataFrame.'??'\n",
    "\n",
    "expected_sorted_columns = ['Age', 'Cabin', 'Embarked', 'Fare', 'Name', 'Parch', 'PassengerId',\n",
    "       'Pclass', 'Sex', 'SibSp', 'Survived', 'Ticket']\n",
    "\n",
    "expected_types = {'Age': dtype('float64'),\n",
    " 'Cabin': dtype('O'),\n",
    " 'Embarked': dtype('O'),\n",
    " 'Fare': dtype('float64'),\n",
    " 'Name': dtype('O'),\n",
    " 'Parch': dtype('int64'),\n",
    " 'PassengerId': dtype('int64'),\n",
    " 'Pclass': dtype('int64'),\n",
    " 'Sex': dtype('O'),\n",
    " 'SibSp': dtype('int64'),\n",
    " 'Survived': dtype('int64'),\n",
    " 'Ticket': dtype('O')}\n",
    "\n",
    "sorted_columns = titanic_df.'??'\n",
    "column_types = titanic_df.'??'\n",
    "\n",
    "assert(expected_sorted_columns == sorted_columns)\n",
    "assert(expected_types == column_types)"
   ]
  },
  {
   "cell_type": "markdown",
   "metadata": {},
   "source": [
    "# Basic data manipulation"
   ]
  },
  {
   "cell_type": "code",
   "execution_count": null,
   "metadata": {
    "collapsed": true
   },
   "outputs": [],
   "source": [
    "# Print first 5 observations from titanic data frame."
   ]
  },
  {
   "cell_type": "markdown",
   "metadata": {},
   "source": [
    "**EXPECTED OUTPUT**"
   ]
  },
  {
   "cell_type": "code",
   "execution_count": 53,
   "metadata": {},
   "outputs": [
    {
     "data": {
      "text/html": [
       "<div>\n",
       "<style>\n",
       "    .dataframe thead tr:only-child th {\n",
       "        text-align: right;\n",
       "    }\n",
       "\n",
       "    .dataframe thead th {\n",
       "        text-align: left;\n",
       "    }\n",
       "\n",
       "    .dataframe tbody tr th {\n",
       "        vertical-align: top;\n",
       "    }\n",
       "</style>\n",
       "<table border=\"1\" class=\"dataframe\">\n",
       "  <thead>\n",
       "    <tr style=\"text-align: right;\">\n",
       "      <th></th>\n",
       "      <th>PassengerId</th>\n",
       "      <th>Survived</th>\n",
       "      <th>Pclass</th>\n",
       "      <th>Name</th>\n",
       "      <th>Sex</th>\n",
       "      <th>Age</th>\n",
       "      <th>SibSp</th>\n",
       "      <th>Parch</th>\n",
       "      <th>Ticket</th>\n",
       "      <th>Fare</th>\n",
       "      <th>Cabin</th>\n",
       "      <th>Embarked</th>\n",
       "    </tr>\n",
       "  </thead>\n",
       "  <tbody>\n",
       "    <tr>\n",
       "      <th>0</th>\n",
       "      <td>1</td>\n",
       "      <td>0</td>\n",
       "      <td>3</td>\n",
       "      <td>Braund, Mr. Owen Harris</td>\n",
       "      <td>male</td>\n",
       "      <td>22.0</td>\n",
       "      <td>1</td>\n",
       "      <td>0</td>\n",
       "      <td>A/5 21171</td>\n",
       "      <td>7.2500</td>\n",
       "      <td>NaN</td>\n",
       "      <td>S</td>\n",
       "    </tr>\n",
       "    <tr>\n",
       "      <th>1</th>\n",
       "      <td>2</td>\n",
       "      <td>1</td>\n",
       "      <td>1</td>\n",
       "      <td>Cumings, Mrs. John Bradley (Florence Briggs Th...</td>\n",
       "      <td>female</td>\n",
       "      <td>38.0</td>\n",
       "      <td>1</td>\n",
       "      <td>0</td>\n",
       "      <td>PC 17599</td>\n",
       "      <td>71.2833</td>\n",
       "      <td>C85</td>\n",
       "      <td>C</td>\n",
       "    </tr>\n",
       "    <tr>\n",
       "      <th>2</th>\n",
       "      <td>3</td>\n",
       "      <td>1</td>\n",
       "      <td>3</td>\n",
       "      <td>Heikkinen, Miss. Laina</td>\n",
       "      <td>female</td>\n",
       "      <td>26.0</td>\n",
       "      <td>0</td>\n",
       "      <td>0</td>\n",
       "      <td>STON/O2. 3101282</td>\n",
       "      <td>7.9250</td>\n",
       "      <td>NaN</td>\n",
       "      <td>S</td>\n",
       "    </tr>\n",
       "    <tr>\n",
       "      <th>3</th>\n",
       "      <td>4</td>\n",
       "      <td>1</td>\n",
       "      <td>1</td>\n",
       "      <td>Futrelle, Mrs. Jacques Heath (Lily May Peel)</td>\n",
       "      <td>female</td>\n",
       "      <td>35.0</td>\n",
       "      <td>1</td>\n",
       "      <td>0</td>\n",
       "      <td>113803</td>\n",
       "      <td>53.1000</td>\n",
       "      <td>C123</td>\n",
       "      <td>S</td>\n",
       "    </tr>\n",
       "    <tr>\n",
       "      <th>4</th>\n",
       "      <td>5</td>\n",
       "      <td>0</td>\n",
       "      <td>3</td>\n",
       "      <td>Allen, Mr. William Henry</td>\n",
       "      <td>male</td>\n",
       "      <td>35.0</td>\n",
       "      <td>0</td>\n",
       "      <td>0</td>\n",
       "      <td>373450</td>\n",
       "      <td>8.0500</td>\n",
       "      <td>NaN</td>\n",
       "      <td>S</td>\n",
       "    </tr>\n",
       "  </tbody>\n",
       "</table>\n",
       "</div>"
      ],
      "text/plain": [
       "   PassengerId  Survived  Pclass  \\\n",
       "0            1         0       3   \n",
       "1            2         1       1   \n",
       "2            3         1       3   \n",
       "3            4         1       1   \n",
       "4            5         0       3   \n",
       "\n",
       "                                                Name     Sex   Age  SibSp  \\\n",
       "0                            Braund, Mr. Owen Harris    male  22.0      1   \n",
       "1  Cumings, Mrs. John Bradley (Florence Briggs Th...  female  38.0      1   \n",
       "2                             Heikkinen, Miss. Laina  female  26.0      0   \n",
       "3       Futrelle, Mrs. Jacques Heath (Lily May Peel)  female  35.0      1   \n",
       "4                           Allen, Mr. William Henry    male  35.0      0   \n",
       "\n",
       "   Parch            Ticket     Fare Cabin Embarked  \n",
       "0      0         A/5 21171   7.2500   NaN        S  \n",
       "1      0          PC 17599  71.2833   C85        C  \n",
       "2      0  STON/O2. 3101282   7.9250   NaN        S  \n",
       "3      0            113803  53.1000  C123        S  \n",
       "4      0            373450   8.0500   NaN        S  "
      ]
     },
     "execution_count": 53,
     "metadata": {},
     "output_type": "execute_result"
    }
   ],
   "source": []
  },
  {
   "cell_type": "code",
   "execution_count": null,
   "metadata": {
    "collapsed": true
   },
   "outputs": [],
   "source": [
    "titanic_df.'??'"
   ]
  },
  {
   "cell_type": "code",
   "execution_count": 22,
   "metadata": {},
   "outputs": [],
   "source": [
    "# Fill the code to get sorted names\n",
    "\n",
    "sorted_names = df1.'??'\n",
    "\n",
    "assert(sorted_names.values.tolist() == ['Morpheus', 'Neo', 'Oracle', 'Smith'])"
   ]
  },
  {
   "cell_type": "code",
   "execution_count": 79,
   "metadata": {},
   "outputs": [],
   "source": [
    "# Use NUMERICAL INDEXING of a data frame to get rows numer 1 & 3 from a dataframe df1\n",
    "# watch out for 0 indexing!\n",
    "\n",
    "rows_1_and_3 = '??'\n",
    "\n",
    "expected_df = pd.DataFrame.from_dict({\n",
    "    'name': ['Neo', 'Oracle'],\n",
    "    'age': [35.0, 999.0],\n",
    "    'role': ['The Chosen', 'The Oracle']\n",
    "})\n",
    "expected_df.index = [1,3]\n",
    "\n",
    "assert(expected_df[['name', 'age', 'role']].equals(rows_1_and_3[['name', 'age', 'role']]))"
   ]
  },
  {
   "cell_type": "code",
   "execution_count": 88,
   "metadata": {},
   "outputs": [
    {
     "name": "stdout",
     "output_type": "stream",
     "text": [
      "??\n"
     ]
    },
    {
     "ename": "AssertionError",
     "evalue": "",
     "output_type": "error",
     "traceback": [
      "\u001b[0;31m---------------------------------------------------------------------------\u001b[0m",
      "\u001b[0;31mAssertionError\u001b[0m                            Traceback (most recent call last)",
      "\u001b[0;32m<ipython-input-88-f932fb2b8c26>\u001b[0m in \u001b[0;36m<module>\u001b[0;34m()\u001b[0m\n\u001b[1;32m     10\u001b[0m \u001b[0mexpected_df\u001b[0m\u001b[0;34m.\u001b[0m\u001b[0mindex\u001b[0m \u001b[0;34m=\u001b[0m \u001b[0;34m[\u001b[0m\u001b[0;36m2\u001b[0m\u001b[0;34m,\u001b[0m \u001b[0;36m3\u001b[0m\u001b[0;34m]\u001b[0m\u001b[0;34m\u001b[0m\u001b[0m\n\u001b[1;32m     11\u001b[0m \u001b[0mprint\u001b[0m\u001b[0;34m(\u001b[0m\u001b[0mage_gte_40\u001b[0m\u001b[0;34m)\u001b[0m\u001b[0;34m\u001b[0m\u001b[0m\n\u001b[0;32m---> 12\u001b[0;31m \u001b[0;32massert\u001b[0m\u001b[0;34m(\u001b[0m\u001b[0mexpected_df\u001b[0m\u001b[0;34m.\u001b[0m\u001b[0mequals\u001b[0m\u001b[0;34m(\u001b[0m\u001b[0mage_gte_40\u001b[0m\u001b[0;34m)\u001b[0m\u001b[0;34m)\u001b[0m\u001b[0;34m\u001b[0m\u001b[0m\n\u001b[0m",
      "\u001b[0;31mAssertionError\u001b[0m: "
     ]
    }
   ],
   "source": [
    "# Use boolean indexing to get rows form df1, where age is >= 40.0\n",
    "\n",
    "age_gte_40 = '??'\n",
    "\n",
    "expected_df = pd.DataFrame.from_dict({\n",
    "    'name': ['Morpheus', 'Oracle'],\n",
    "    'age': [40.0, 999.0],\n",
    "    'role': ['Capitan of Nebuchadnezzar', 'The Oracle']\n",
    "})\n",
    "expected_df.index = [2, 3]\n",
    "print(age_gte_40)\n",
    "assert(expected_df[['name', 'age', 'role']].equals(age_gte_40[['name', 'age', 'role']]))"
   ]
  },
  {
   "cell_type": "code",
   "execution_count": 89,
   "metadata": {},
   "outputs": [
    {
     "name": "stdout",
     "output_type": "stream",
     "text": [
      "  name   age\n",
      "1  Neo  35.0\n",
      "    age name\n",
      "1  35.0  Neo\n"
     ]
    }
   ],
   "source": [
    "# Use boolean indexing + column references to get rows form df1, where age is < 40.0. Get ONLY names and age\n",
    "\n",
    "name_age_lt_40 = '??'\n",
    "\n",
    "expected_df = pd.DataFrame.from_dict({\n",
    "    'age': [35.0],\n",
    "    'name': ['Neo']\n",
    "})\n",
    "expected_df.index = [1]\n",
    "\n",
    "print(name_age_lt_40)\n",
    "\n",
    "assert(expected_df[['name', 'age']].equals(name_age_lt_40))"
   ]
  },
  {
   "cell_type": "code",
   "execution_count": 104,
   "metadata": {},
   "outputs": [],
   "source": [
    "# Use boolean indexing with multiple conditions to get rows from df1 where age >=40 OR a person is The Chosen :)\n",
    "# Get only names. Sort results in alphabetic order\n",
    "# There's more than 1 way to do this\n",
    "age_gte_40_or_chosen = '??'\n",
    "\n",
    "expected_sorted_values = ['Morpheus', 'Neo', 'Oracle']\n",
    "assert(expected_sorted_values == age_gte_40_or_chosen)"
   ]
  },
  {
   "cell_type": "markdown",
   "metadata": {},
   "source": [
    "# Basic data exploration & statistics"
   ]
  },
  {
   "cell_type": "markdown",
   "metadata": {},
   "source": [
    "Use describe function to get an overview of titanic data. You should get **expected output** similar to below\n"
   ]
  },
  {
   "cell_type": "code",
   "execution_count": 143,
   "metadata": {},
   "outputs": [
    {
     "data": {
      "text/html": [
       "<div>\n",
       "<style>\n",
       "    .dataframe thead tr:only-child th {\n",
       "        text-align: right;\n",
       "    }\n",
       "\n",
       "    .dataframe thead th {\n",
       "        text-align: left;\n",
       "    }\n",
       "\n",
       "    .dataframe tbody tr th {\n",
       "        vertical-align: top;\n",
       "    }\n",
       "</style>\n",
       "<table border=\"1\" class=\"dataframe\">\n",
       "  <thead>\n",
       "    <tr style=\"text-align: right;\">\n",
       "      <th></th>\n",
       "      <th>PassengerId</th>\n",
       "      <th>Survived</th>\n",
       "      <th>Pclass</th>\n",
       "      <th>Age</th>\n",
       "      <th>SibSp</th>\n",
       "      <th>Parch</th>\n",
       "      <th>Fare</th>\n",
       "    </tr>\n",
       "  </thead>\n",
       "  <tbody>\n",
       "    <tr>\n",
       "      <th>count</th>\n",
       "      <td>891.000000</td>\n",
       "      <td>891.000000</td>\n",
       "      <td>891.000000</td>\n",
       "      <td>714.000000</td>\n",
       "      <td>891.000000</td>\n",
       "      <td>891.000000</td>\n",
       "      <td>891.000000</td>\n",
       "    </tr>\n",
       "    <tr>\n",
       "      <th>mean</th>\n",
       "      <td>446.000000</td>\n",
       "      <td>0.383838</td>\n",
       "      <td>2.308642</td>\n",
       "      <td>29.699118</td>\n",
       "      <td>0.523008</td>\n",
       "      <td>0.381594</td>\n",
       "      <td>32.204208</td>\n",
       "    </tr>\n",
       "    <tr>\n",
       "      <th>std</th>\n",
       "      <td>257.353842</td>\n",
       "      <td>0.486592</td>\n",
       "      <td>0.836071</td>\n",
       "      <td>14.526497</td>\n",
       "      <td>1.102743</td>\n",
       "      <td>0.806057</td>\n",
       "      <td>49.693429</td>\n",
       "    </tr>\n",
       "    <tr>\n",
       "      <th>min</th>\n",
       "      <td>1.000000</td>\n",
       "      <td>0.000000</td>\n",
       "      <td>1.000000</td>\n",
       "      <td>0.420000</td>\n",
       "      <td>0.000000</td>\n",
       "      <td>0.000000</td>\n",
       "      <td>0.000000</td>\n",
       "    </tr>\n",
       "    <tr>\n",
       "      <th>25%</th>\n",
       "      <td>223.500000</td>\n",
       "      <td>0.000000</td>\n",
       "      <td>2.000000</td>\n",
       "      <td>20.125000</td>\n",
       "      <td>0.000000</td>\n",
       "      <td>0.000000</td>\n",
       "      <td>7.910400</td>\n",
       "    </tr>\n",
       "    <tr>\n",
       "      <th>50%</th>\n",
       "      <td>446.000000</td>\n",
       "      <td>0.000000</td>\n",
       "      <td>3.000000</td>\n",
       "      <td>28.000000</td>\n",
       "      <td>0.000000</td>\n",
       "      <td>0.000000</td>\n",
       "      <td>14.454200</td>\n",
       "    </tr>\n",
       "    <tr>\n",
       "      <th>75%</th>\n",
       "      <td>668.500000</td>\n",
       "      <td>1.000000</td>\n",
       "      <td>3.000000</td>\n",
       "      <td>38.000000</td>\n",
       "      <td>1.000000</td>\n",
       "      <td>0.000000</td>\n",
       "      <td>31.000000</td>\n",
       "    </tr>\n",
       "    <tr>\n",
       "      <th>max</th>\n",
       "      <td>891.000000</td>\n",
       "      <td>1.000000</td>\n",
       "      <td>3.000000</td>\n",
       "      <td>80.000000</td>\n",
       "      <td>8.000000</td>\n",
       "      <td>6.000000</td>\n",
       "      <td>512.329200</td>\n",
       "    </tr>\n",
       "  </tbody>\n",
       "</table>\n",
       "</div>"
      ],
      "text/plain": [
       "       PassengerId    Survived      Pclass         Age       SibSp  \\\n",
       "count   891.000000  891.000000  891.000000  714.000000  891.000000   \n",
       "mean    446.000000    0.383838    2.308642   29.699118    0.523008   \n",
       "std     257.353842    0.486592    0.836071   14.526497    1.102743   \n",
       "min       1.000000    0.000000    1.000000    0.420000    0.000000   \n",
       "25%     223.500000    0.000000    2.000000   20.125000    0.000000   \n",
       "50%     446.000000    0.000000    3.000000   28.000000    0.000000   \n",
       "75%     668.500000    1.000000    3.000000   38.000000    1.000000   \n",
       "max     891.000000    1.000000    3.000000   80.000000    8.000000   \n",
       "\n",
       "            Parch        Fare  \n",
       "count  891.000000  891.000000  \n",
       "mean     0.381594   32.204208  \n",
       "std      0.806057   49.693429  \n",
       "min      0.000000    0.000000  \n",
       "25%      0.000000    7.910400  \n",
       "50%      0.000000   14.454200  \n",
       "75%      0.000000   31.000000  \n",
       "max      6.000000  512.329200  "
      ]
     },
     "execution_count": 143,
     "metadata": {},
     "output_type": "execute_result"
    }
   ],
   "source": []
  },
  {
   "cell_type": "code",
   "execution_count": 125,
   "metadata": {},
   "outputs": [],
   "source": [
    "# Calculate unique values in titanic Sex column\n",
    "\n",
    "actual_results = '??'\n",
    "expected_results = pd.Series(data=[577, 314], index=['male', 'female'])\n",
    "\n",
    "assert(actual_results.equals(expected_results))"
   ]
  },
  {
   "cell_type": "code",
   "execution_count": 135,
   "metadata": {},
   "outputs": [],
   "source": [
    "# Calculate mean value of age in titanic_df. Check what happens, if you INCLUDE missing values, or when you exclude missing values?\n",
    "# round age to 1 decimal place\n",
    "mean_age = '??'\n",
    "expected_age = 29.7\n",
    "assert(expected_age == mean_age)"
   ]
  },
  {
   "cell_type": "code",
   "execution_count": 140,
   "metadata": {},
   "outputs": [],
   "source": [
    "# Calculate standard deviation of the age in titanic df.\n",
    "# Round age std to 1 decimal place\n",
    "\n",
    "expected_age_std = 14.5\n",
    "age_std = '??'\n",
    "\n",
    "assert(expected_age_std == age_std)"
   ]
  },
  {
   "cell_type": "code",
   "execution_count": 146,
   "metadata": {},
   "outputs": [],
   "source": [
    "# Find max, min value of age in titanic df\n",
    "\n",
    "max_age = '??'\n",
    "min_age = '??'\n",
    "\n",
    "expected_max_age = 80.0\n",
    "expected_min_age = 0.42\n",
    "\n",
    "assert(expected_max_age == max_age)\n",
    "assert(expected_min_age == min_age)"
   ]
  },
  {
   "cell_type": "code",
   "execution_count": 150,
   "metadata": {},
   "outputs": [],
   "source": [
    "# Use your skills from previous module to get MEAN AGE of MALES in titanic df\n",
    "# Round age to 1 decimal place\n",
    "\n",
    "mean_male_age = '??'\n",
    "expected_mean_male_age = 30.7\n",
    "\n",
    "assert(mean_male_age == expected_mean_male_age)"
   ]
  },
  {
   "cell_type": "code",
   "execution_count": 154,
   "metadata": {},
   "outputs": [],
   "source": [
    "# Use your skills from previous module to get MEAN AGE of FEMALES who survived (1) in titanic df\n",
    "# Round age to 1 decimal place\n",
    "\n",
    "survived_females_mean_age = '??'\n",
    "expected_survived_females_mean_age = 28.8\n",
    "\n",
    "assert(survived_females_mean_age == expected_survived_females_mean_age)"
   ]
  },
  {
   "cell_type": "markdown",
   "metadata": {},
   "source": [
    "# Dealing with missing data"
   ]
  },
  {
   "cell_type": "code",
   "execution_count": null,
   "metadata": {
    "collapsed": true
   },
   "outputs": [],
   "source": []
  },
  {
   "cell_type": "code",
   "execution_count": null,
   "metadata": {
    "collapsed": true
   },
   "outputs": [],
   "source": []
  }
 ],
 "metadata": {
  "kernelspec": {
   "display_name": "Python 3",
   "language": "python",
   "name": "python3"
  },
  "language_info": {
   "codemirror_mode": {
    "name": "ipython",
    "version": 3
   },
   "file_extension": ".py",
   "mimetype": "text/x-python",
   "name": "python",
   "nbconvert_exporter": "python",
   "pygments_lexer": "ipython3",
   "version": "3.6.1"
  },
  "toc": {
   "colors": {
    "hover_highlight": "#DAA520",
    "navigate_num": "#000000",
    "navigate_text": "#333333",
    "running_highlight": "#FF0000",
    "selected_highlight": "#FFD700",
    "sidebar_border": "#EEEEEE",
    "wrapper_background": "#FFFFFF"
   },
   "moveMenuLeft": true,
   "nav_menu": {
    "height": "102px",
    "width": "252px"
   },
   "navigate_menu": true,
   "number_sections": false,
   "sideBar": true,
   "threshold": 4,
   "toc_cell": true,
   "toc_position": {
    "height": "649px",
    "left": "0px",
    "right": "964px",
    "top": "106px",
    "width": "236px"
   },
   "toc_section_display": "block",
   "toc_window_display": true,
   "widenNotebook": false
  }
 },
 "nbformat": 4,
 "nbformat_minor": 2
}
