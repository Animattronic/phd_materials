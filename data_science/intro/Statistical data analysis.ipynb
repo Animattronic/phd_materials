{
 "cells": [
  {
   "cell_type": "markdown",
   "metadata": {},
   "source": [
    "# Statistical data analysis"
   ]
  },
  {
   "cell_type": "markdown",
   "metadata": {},
   "source": [
    "In this excercise notebook, you'll be asked to perform several statistical tests to check data properties.\n",
    "\n",
    "* Some of this excercieses will be similar to what you've seen so far - including data exploration and data reshaping\n",
    "\n",
    "* Because a lot of statistics will be required for this excercise, feel free to use any external sources and materials, that will help you.\n",
    "\n",
    "* You can use any of the statistical libraries you find suitable - scipy/sklearn/statsmodels"
   ]
  },
  {
   "cell_type": "markdown",
   "metadata": {},
   "source": [
    "Fill parts of the notebook marked as **'??'** with your code to get the results."
   ]
  },
  {
   "cell_type": "markdown",
   "metadata": {},
   "source": [
    "Now, almost every cell comes with assert statement - it describes, what **IS EXPECTED TO HAPPEN.**\n",
    "\n",
    "If everything is fine - you will pass.\n",
    "\n",
    "If something is wrong, you'll get an error."
   ]
  },
  {
   "cell_type": "markdown",
   "metadata": {},
   "source": [
    "You'll be working with well-known Titanic dataset"
   ]
  },
  {
   "cell_type": "markdown",
   "metadata": {},
   "source": [
    "Info about the dataset:\n",
    "\n",
    "https://www.kaggle.com/c/titanic/data\n",
    "\n",
    "Data Dictionary\n",
    "\n",
    "| Variable | Definition                                 | Key                                            | \n",
    "|----------|--------------------------------------------|------------------------------------------------| \n",
    "| survival | Survival                                   | 0 = No, 1 = Yes                                | \n",
    "| pclass   | Ticket class                               | 1 = 1st, 2 = 2nd, 3 = 3rd                      | \n",
    "| sex      | Sex                                        |                                                | \n",
    "| Age      | Age in years                               |                                                | \n",
    "| sibsp    | # of siblings / spouses aboard the Titanic |                                                | \n",
    "| parch    | # of parents / children aboard the Titanic |                                                | \n",
    "| ticket   | Ticket number                              |                                                | \n",
    "| fare     | Passenger fare                             |                                                | \n",
    "| cabin    | Cabin number                               |                                                | \n",
    "| embarked | Port of Embarkation                        | C = Cherbourg, Q = Queenstown, S = Southampton | \n",
    "\n",
    "\n",
    "pclass: A proxy for socio-economic status (SES)\n",
    "\n",
    "    1st = Upper\n",
    "    2nd = Middle\n",
    "    3rd = Lower\n",
    "\n",
    "age: Age is fractional if less than 1. If the age is estimated, is it in the form of xx.5\n",
    "\n",
    "sibsp: The dataset defines family relations in this way...\n",
    "Sibling = brother, sister, stepbrother, stepsister\n",
    "Spouse = husband, wife (mistresses and fiancés were ignored)\n",
    "\n",
    "parch: The dataset defines family relations in this way...\n",
    "Parent = mother, father\n",
    "Child = daughter, son, stepdaughter, stepson\n",
    "Some children travelled only with a nanny, therefore parch=0 for them."
   ]
  },
  {
   "cell_type": "code",
   "execution_count": 71,
   "metadata": {
    "collapsed": false
   },
   "outputs": [
    {
     "name": "stderr",
     "output_type": "stream",
     "text": [
      "D:\\tools\\anaconda\\lib\\site-packages\\statsmodels\\compat\\pandas.py:56: FutureWarning: The pandas.core.datetools module is deprecated and will be removed in a future version. Please use the pandas.tseries module instead.\n",
      "  from pandas.core import datetools\n"
     ]
    }
   ],
   "source": [
    "import pandas as pd\n",
    "import numpy as np\n",
    "import sklearn as sk\n",
    "import scipy.stats as st\n",
    "import statsmodels as stm\n",
    "import statsmodels.api as stmApi"
   ]
  },
  {
   "cell_type": "code",
   "execution_count": 83,
   "metadata": {
    "collapsed": true
   },
   "outputs": [],
   "source": [
    "%matplotlib inline"
   ]
  },
  {
   "cell_type": "code",
   "execution_count": 3,
   "metadata": {
    "collapsed": false
   },
   "outputs": [
    {
     "data": {
      "text/html": [
       "<div>\n",
       "<style>\n",
       "    .dataframe thead tr:only-child th {\n",
       "        text-align: right;\n",
       "    }\n",
       "\n",
       "    .dataframe thead th {\n",
       "        text-align: left;\n",
       "    }\n",
       "\n",
       "    .dataframe tbody tr th {\n",
       "        vertical-align: top;\n",
       "    }\n",
       "</style>\n",
       "<table border=\"1\" class=\"dataframe\">\n",
       "  <thead>\n",
       "    <tr style=\"text-align: right;\">\n",
       "      <th></th>\n",
       "      <th>PassengerId</th>\n",
       "      <th>Survived</th>\n",
       "      <th>Pclass</th>\n",
       "      <th>Name</th>\n",
       "      <th>Sex</th>\n",
       "      <th>Age</th>\n",
       "      <th>SibSp</th>\n",
       "      <th>Parch</th>\n",
       "      <th>Ticket</th>\n",
       "      <th>Fare</th>\n",
       "      <th>Cabin</th>\n",
       "      <th>Embarked</th>\n",
       "    </tr>\n",
       "  </thead>\n",
       "  <tbody>\n",
       "    <tr>\n",
       "      <th>0</th>\n",
       "      <td>1</td>\n",
       "      <td>0</td>\n",
       "      <td>3</td>\n",
       "      <td>Braund, Mr. Owen Harris</td>\n",
       "      <td>male</td>\n",
       "      <td>22.0</td>\n",
       "      <td>1</td>\n",
       "      <td>0</td>\n",
       "      <td>A/5 21171</td>\n",
       "      <td>7.2500</td>\n",
       "      <td>NaN</td>\n",
       "      <td>S</td>\n",
       "    </tr>\n",
       "    <tr>\n",
       "      <th>1</th>\n",
       "      <td>2</td>\n",
       "      <td>1</td>\n",
       "      <td>1</td>\n",
       "      <td>Cumings, Mrs. John Bradley (Florence Briggs Th...</td>\n",
       "      <td>female</td>\n",
       "      <td>38.0</td>\n",
       "      <td>1</td>\n",
       "      <td>0</td>\n",
       "      <td>PC 17599</td>\n",
       "      <td>71.2833</td>\n",
       "      <td>C85</td>\n",
       "      <td>C</td>\n",
       "    </tr>\n",
       "    <tr>\n",
       "      <th>2</th>\n",
       "      <td>3</td>\n",
       "      <td>1</td>\n",
       "      <td>3</td>\n",
       "      <td>Heikkinen, Miss. Laina</td>\n",
       "      <td>female</td>\n",
       "      <td>26.0</td>\n",
       "      <td>0</td>\n",
       "      <td>0</td>\n",
       "      <td>STON/O2. 3101282</td>\n",
       "      <td>7.9250</td>\n",
       "      <td>NaN</td>\n",
       "      <td>S</td>\n",
       "    </tr>\n",
       "  </tbody>\n",
       "</table>\n",
       "</div>"
      ],
      "text/plain": [
       "   PassengerId  Survived  Pclass  \\\n",
       "0            1         0       3   \n",
       "1            2         1       1   \n",
       "2            3         1       3   \n",
       "\n",
       "                                                Name     Sex   Age  SibSp  \\\n",
       "0                            Braund, Mr. Owen Harris    male  22.0      1   \n",
       "1  Cumings, Mrs. John Bradley (Florence Briggs Th...  female  38.0      1   \n",
       "2                             Heikkinen, Miss. Laina  female  26.0      0   \n",
       "\n",
       "   Parch            Ticket     Fare Cabin Embarked  \n",
       "0      0         A/5 21171   7.2500   NaN        S  \n",
       "1      0          PC 17599  71.2833   C85        C  \n",
       "2      0  STON/O2. 3101282   7.9250   NaN        S  "
      ]
     },
     "execution_count": 3,
     "metadata": {},
     "output_type": "execute_result"
    }
   ],
   "source": [
    "titanic_data = pd.DataFrame.from_csv(\"./data/titanic_train_data.csv\", index_col=None)\n",
    "titanic_data.head(3)"
   ]
  },
  {
   "cell_type": "markdown",
   "metadata": {},
   "source": [
    "# T-test for comparing groups"
   ]
  },
  {
   "cell_type": "code",
   "execution_count": 39,
   "metadata": {
    "collapsed": false
   },
   "outputs": [
    {
     "name": "stdout",
     "output_type": "stream",
     "text": [
      "         Age             \n",
      "        mean    var   std\n",
      "Sex                      \n",
      "female  27.9  199.1  14.1\n",
      "male    30.7  215.4  14.7\n"
     ]
    }
   ],
   "source": [
    "# Excercise 1: Get the mean, variance and standard deviation of age for males and females in Titanic\n",
    "\n",
    "# Round your results to 1 decimal place!\n",
    "\n",
    "expected_df = pd.DataFrame({\n",
    "    'a': ['Age', 'mean', 27.9, 30.7],\n",
    "    'b': [\"Age\", \"var\", 199.1, 215.4],\n",
    "    'c': [\"Age\", \"std\", 14.1, 14.7]\n",
    "})\n",
    "arrays = [expected_df.iloc[0].tolist(), expected_df.iloc[1].tolist()]\n",
    "tuples = list(zip(*arrays))\n",
    "index = pd.MultiIndex.from_tuples(tuples)\n",
    "expected_df.columns = index\n",
    "expected_df = expected_df.iloc[2:]\n",
    "expected_df.index = [\"female\", \"male\"]\n",
    "expected_df.index.name = \"Sex\"\n",
    "\n",
    "\n",
    "age_mean_var_std = '??'\n",
    "\n",
    "print(age_mean_var_std)\n",
    "\n",
    "\n",
    "assert(age_mean_var_std.to_string() == expected_df.to_string())"
   ]
  },
  {
   "cell_type": "code",
   "execution_count": 43,
   "metadata": {
    "collapsed": false
   },
   "outputs": [
    {
     "name": "stdout",
     "output_type": "stream",
     "text": [
      "2.5\n",
      "0.01\n"
     ]
    }
   ],
   "source": [
    "# Excercise 2: Perform two-sided t-test to check if mean age is equal in two groups.\n",
    "# Answer a question: should you use pooled variance or not? \n",
    "# Do you consider variances amongst the groups equal?\n",
    "\n",
    "# What is your null hypothesis? What is your alternative hypothesis?\n",
    "\n",
    "# Round results to 3rd decimal place\n",
    "\n",
    "# WATCH OUT FOR MISSING VALUES! Find a way to deal with them\n",
    "\n",
    "males_age_vec = titanic_data.loc[titanic_data.Sex == \"male\", \"Age\"].dropna()\n",
    "females_age_vec = titanic_data.loc[titanic_data.Sex == \"female\", \"Age\"].dropna()\n",
    "\n",
    "expected_stat = 2.5\n",
    "expected_pval = 0.01\n",
    "\n",
    "pval = '??'\n",
    "stat_val = '??'\n",
    "\n",
    "assert(pval == expected_pval)\n",
    "assert(expected_stat == stat_val)"
   ]
  },
  {
   "cell_type": "markdown",
   "metadata": {},
   "source": [
    "Excercise 2: Calculate proportion test of males vs females who survived\n",
    "You should RESHAPE data first\n",
    "Your desired data shape should be \n",
    "\n",
    " |**Survived**|**Not survived**\n",
    ":-----:|:-----:|:-----:\n",
    "Males|xx|yy\n",
    "Females|zz|qq\n",
    "\n",
    "Use proper statistical test, which will answer the following questions:\n",
    " * Are Survival and Sex independent?\n",
    " * Is there any relationship between two proportions?\n",
    " \n",
    " \n",
    "There's no assertion in this excercise - because you might get different values, depending on the statistic used. Although, there's one clear answer to the question :) So you should arrive to one clear conclusion :)"
   ]
  },
  {
   "cell_type": "code",
   "execution_count": 57,
   "metadata": {
    "collapsed": false
   },
   "outputs": [
    {
     "name": "stderr",
     "output_type": "stream",
     "text": [
      "D:\\tools\\anaconda\\lib\\site-packages\\ipykernel\\__main__.py:1: FutureWarning: reshape is deprecated and will raise in a subsequent release. Please use .values.reshape(...) instead\n",
      "  if __name__ == '__main__':\n"
     ]
    },
    {
     "data": {
      "text/plain": [
       "(260.71702016732104,\n",
       " 1.1973570627755645e-58,\n",
       " 1,\n",
       " array([[ 193.47474747,  120.52525253],\n",
       "        [ 355.52525253,  221.47474747]]))"
      ]
     },
     "execution_count": 57,
     "metadata": {},
     "output_type": "execute_result"
    }
   ],
   "source": [
    "# YOUR CODE GOES HERE!"
   ]
  },
  {
   "cell_type": "code",
   "execution_count": 58,
   "metadata": {
    "collapsed": false
   },
   "outputs": [
    {
     "data": {
      "text/plain": [
       "177"
      ]
     },
     "execution_count": 58,
     "metadata": {},
     "output_type": "execute_result"
    }
   ],
   "source": [
    "from sklearn.linear_model import LinearRegression\n",
    "\n",
    "no_null_age = titanic_data.Age.notnull()\n",
    "titanic_data.Age.isnull().sum()\n",
    "#train_df = titanic_data"
   ]
  },
  {
   "cell_type": "code",
   "execution_count": 107,
   "metadata": {
    "collapsed": false
   },
   "outputs": [
    {
     "name": "stdout",
     "output_type": "stream",
     "text": [
      "Optimization terminated successfully.\n",
      "         Current function value: 0.449664\n",
      "         Iterations 8\n",
      "                           Logit Regression Results                           \n",
      "==============================================================================\n",
      "Dep. Variable:               Survived   No. Observations:                  183\n",
      "Model:                          Logit   Df Residuals:                      177\n",
      "Method:                           MLE   Df Model:                            5\n",
      "Date:                Mon, 14 Aug 2017   Pseudo R-squ.:                  0.2892\n",
      "Time:                        14:31:09   Log-Likelihood:                -82.288\n",
      "converged:                       True   LL-Null:                       -115.78\n",
      "                                        LLR p-value:                 4.358e-13\n",
      "==============================================================================\n",
      "                 coef    std err          z      P>|z|      [0.025      0.975]\n",
      "------------------------------------------------------------------------------\n",
      "const          1.5249   9.42e+06   1.62e-07      1.000   -1.85e+07    1.85e+07\n",
      "Fare           0.0034      0.003      1.161      0.246      -0.002       0.009\n",
      "SibSp          0.1484      0.336      0.442      0.659      -0.510       0.806\n",
      "Age           -0.0334      0.013     -2.493      0.013      -0.060      -0.007\n",
      "Parch         -0.4711      0.316     -1.491      0.136      -1.091       0.148\n",
      "Sex_female     2.1690   9.42e+06    2.3e-07      1.000   -1.85e+07    1.85e+07\n",
      "Sex_male      -0.6441   9.42e+06  -6.84e-08      1.000   -1.85e+07    1.85e+07\n",
      "==============================================================================\n"
     ]
    }
   ],
   "source": [
    "clean_data = titanic_data.dropna()\n",
    "lr = LinearRegression()\n",
    "lr.fit(clean_data[[\"Pclass\"]], clean_data[\"Age\"])\n",
    "X = pd.get_dummies(clean_data[[\"Fare\", \"SibSp\", \"Age\", \"Parch\", \"Sex\"]])\n",
    "X = stmApi.add_constant(X)\n",
    "fit = stmApi.Logit(clean_data[\"Survived\"], X).fit()\n",
    "print(fit.summary())"
   ]
  },
  {
   "cell_type": "code",
   "execution_count": null,
   "metadata": {
    "collapsed": true
   },
   "outputs": [],
   "source": []
  }
 ],
 "metadata": {
  "kernelspec": {
   "display_name": "Python 3",
   "language": "python",
   "name": "python3"
  },
  "language_info": {
   "codemirror_mode": {
    "name": "ipython",
    "version": 3
   },
   "file_extension": ".py",
   "mimetype": "text/x-python",
   "name": "python",
   "nbconvert_exporter": "python",
   "pygments_lexer": "ipython3",
   "version": "3.6.0"
  },
  "toc": {
   "colors": {
    "hover_highlight": "#DAA520",
    "running_highlight": "#FF0000",
    "selected_highlight": "#FFD700"
   },
   "moveMenuLeft": true,
   "nav_menu": {
    "height": "48px",
    "width": "252px"
   },
   "navigate_menu": true,
   "number_sections": false,
   "sideBar": true,
   "threshold": 4,
   "toc_cell": false,
   "toc_section_display": "block",
   "toc_window_display": true
  }
 },
 "nbformat": 4,
 "nbformat_minor": 2
}
