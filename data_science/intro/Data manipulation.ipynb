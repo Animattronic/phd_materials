{
 "cells": [
  {
   "cell_type": "markdown",
   "metadata": {
    "toc": "true"
   },
   "source": [
    "# Table of Contents\n",
    " <p><div class=\"lev1 toc-item\"><a href=\"#Data-manipulation-excercises\" data-toc-modified-id=\"Data-manipulation-excercises-1\"><span class=\"toc-item-num\">1&nbsp;&nbsp;</span>Data manipulation excercises</a></div>"
   ]
  },
  {
   "cell_type": "markdown",
   "metadata": {},
   "source": [
    "# Data manipulation excercises"
   ]
  },
  {
   "cell_type": "markdown",
   "metadata": {},
   "source": [
    "In this section you'll learn how to manipulate and transform your data in Pandas. Special functions like groupby, aggregate and apply will be covered.\n",
    "\n",
    "As before - you'll be asked to fill missing **'??'** in the code with proper answers. \n",
    "\n",
    "In some places - where it's easy to check results - assetions will verify if your results are fine. Otherwise - you'll just have to achieve the same results as in visualizations below each excercise.\n",
    "\n",
    "We'll be working with Titanic disaster data, as before, but for initial, simpler excercises we'll use some trivial datasets."
   ]
  },
  {
   "cell_type": "code",
   "execution_count": 2,
   "metadata": {
    "collapsed": true
   },
   "outputs": [],
   "source": [
    "import pandas as pd\n",
    "import numpy as np\n",
    "\n",
    "# Read titanic data from data folder.\n",
    "# Data is in CSV format, separated by comma, with header in zero row, no index column\n",
    "\n",
    "titanic_df = '??'\n",
    "titanic_df.head(10)"
   ]
  },
  {
   "cell_type": "code",
   "execution_count": 6,
   "metadata": {
    "collapsed": false
   },
   "outputs": [
    {
     "data": {
      "text/html": [
       "<div>\n",
       "<style>\n",
       "    .dataframe thead tr:only-child th {\n",
       "        text-align: right;\n",
       "    }\n",
       "\n",
       "    .dataframe thead th {\n",
       "        text-align: left;\n",
       "    }\n",
       "\n",
       "    .dataframe tbody tr th {\n",
       "        vertical-align: top;\n",
       "    }\n",
       "</style>\n",
       "<table border=\"1\" class=\"dataframe\">\n",
       "  <thead>\n",
       "    <tr style=\"text-align: right;\">\n",
       "      <th></th>\n",
       "      <th>age</th>\n",
       "      <th>character</th>\n",
       "      <th>origin</th>\n",
       "      <th>party</th>\n",
       "    </tr>\n",
       "  </thead>\n",
       "  <tbody>\n",
       "    <tr>\n",
       "      <th>0</th>\n",
       "      <td>35</td>\n",
       "      <td>Neo</td>\n",
       "      <td>human</td>\n",
       "      <td>good</td>\n",
       "    </tr>\n",
       "    <tr>\n",
       "      <th>1</th>\n",
       "      <td>33</td>\n",
       "      <td>Trinity</td>\n",
       "      <td>human</td>\n",
       "      <td>good</td>\n",
       "    </tr>\n",
       "    <tr>\n",
       "      <th>2</th>\n",
       "      <td>40</td>\n",
       "      <td>Morpheus</td>\n",
       "      <td>human</td>\n",
       "      <td>good</td>\n",
       "    </tr>\n",
       "    <tr>\n",
       "      <th>3</th>\n",
       "      <td>999</td>\n",
       "      <td>Agent Smith</td>\n",
       "      <td>machine</td>\n",
       "      <td>villain</td>\n",
       "    </tr>\n",
       "    <tr>\n",
       "      <th>4</th>\n",
       "      <td>999</td>\n",
       "      <td>The Oracle</td>\n",
       "      <td>machine</td>\n",
       "      <td>good</td>\n",
       "    </tr>\n",
       "    <tr>\n",
       "      <th>5</th>\n",
       "      <td>999</td>\n",
       "      <td>The Architect</td>\n",
       "      <td>machine</td>\n",
       "      <td>villain</td>\n",
       "    </tr>\n",
       "  </tbody>\n",
       "</table>\n",
       "</div>"
      ],
      "text/plain": [
       "   age      character   origin    party\n",
       "0   35            Neo    human     good\n",
       "1   33        Trinity    human     good\n",
       "2   40       Morpheus    human     good\n",
       "3  999    Agent Smith  machine  villain\n",
       "4  999     The Oracle  machine     good\n",
       "5  999  The Architect  machine  villain"
      ]
     },
     "execution_count": 6,
     "metadata": {},
     "output_type": "execute_result"
    }
   ],
   "source": [
    "example_df = pd.DataFrame({\n",
    "    'character': ['Neo', 'Trinity', 'Morpheus', 'Agent Smith', 'The Oracle', 'The Architect'],\n",
    "    'origin':    ['human', 'human', 'human', 'machine', 'machine', 'machine'],\n",
    "    'party': ['good', 'good', 'good', 'villain', 'good', 'villain'],\n",
    "    'age': [35, 33, 40, 999, 999, 999]\n",
    "    \n",
    "})\n",
    "example_df"
   ]
  },
  {
   "cell_type": "code",
   "execution_count": 16,
   "metadata": {
    "collapsed": true
   },
   "outputs": [],
   "source": [
    "# Group observations by party and calculate mean age:\n",
    "\n",
    "expected_df = pd.Series(data=[4,2], index=['good', 'villain'])\n",
    "expected_df.index.rename('party', inplace=True)\n",
    "\n",
    "grouped_data_mean_age = '??'\n",
    "\n",
    "assert(expected_df.equals(grouped_data_mean_age))"
   ]
  },
  {
   "cell_type": "code",
   "execution_count": 26,
   "metadata": {
    "collapsed": true
   },
   "outputs": [],
   "source": [
    "# Group observations by origin and count number of good and villain characters\n",
    "\n",
    "expected_index = pd.Index(['human', 'machine'], name='origin')\n",
    "expected_df = pd.DataFrame({'party': [3, 3]}, index=expected_index)\n",
    "\n",
    "aggregated_data = '??'\n",
    "assert(expected_df.equals(aggregated_data))"
   ]
  },
  {
   "cell_type": "code",
   "execution_count": 52,
   "metadata": {
    "collapsed": true
   },
   "outputs": [],
   "source": [
    "# Group observations by ORIGIN AND PARTY and aggregate: age - mean, median\n",
    "\n",
    "expected_index = pd.MultiIndex(levels=[['human', 'machine'], ['good', 'villain']],\n",
    "           labels=[[0, 1, 1], [0, 0, 1]],\n",
    "           names=['origin', 'party'])\n",
    "\n",
    "expected_col_index = pd.MultiIndex(levels=[['age'], ['mean', 'median']],\n",
    "           labels=[[0, 0], [0, 1]])\n",
    "\n",
    "expected_df = pd.DataFrame({\n",
    "      'mean': [36, 999, 999],\n",
    "      'median': [35, 999, 999]\n",
    "}, index=expected_index)\n",
    "expected_df.columns = expected_col_index\n",
    "\n",
    "grouped_by_party_and_origin = '??'\n",
    "\n",
    "assert(expected_df.equals(grouped_by_party_and_origin))"
   ]
  }
 ],
 "metadata": {
  "kernelspec": {
   "display_name": "Python 3",
   "language": "python",
   "name": "python3"
  },
  "language_info": {
   "codemirror_mode": {
    "name": "ipython",
    "version": 3
   },
   "file_extension": ".py",
   "mimetype": "text/x-python",
   "name": "python",
   "nbconvert_exporter": "python",
   "pygments_lexer": "ipython3",
   "version": "3.6.0"
  },
  "toc": {
   "colors": {
    "hover_highlight": "#DAA520",
    "running_highlight": "#FF0000",
    "selected_highlight": "#FFD700"
   },
   "moveMenuLeft": true,
   "nav_menu": {
    "height": "30px",
    "width": "252px"
   },
   "navigate_menu": true,
   "number_sections": false,
   "sideBar": true,
   "threshold": 4,
   "toc_cell": true,
   "toc_section_display": "block",
   "toc_window_display": true,
   "widenNotebook": false
  }
 },
 "nbformat": 4,
 "nbformat_minor": 2
}
