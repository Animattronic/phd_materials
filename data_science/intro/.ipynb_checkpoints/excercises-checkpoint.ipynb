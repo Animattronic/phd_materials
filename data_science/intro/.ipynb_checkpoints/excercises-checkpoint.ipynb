{
 "cells": [
  {
   "cell_type": "markdown",
   "metadata": {
    "toc": "true"
   },
   "source": [
    "# Table of Contents\n",
    " <p><div class=\"lev1 toc-item\"><a href=\"#Description\" data-toc-modified-id=\"Description-1\"><span class=\"toc-item-num\">1&nbsp;&nbsp;</span>Description</a></div><div class=\"lev1 toc-item\"><a href=\"#Variables-assignment-&amp;-basic-operations\" data-toc-modified-id=\"Variables-assignment-&amp;-basic-operations-2\"><span class=\"toc-item-num\">2&nbsp;&nbsp;</span>Variables assignment &amp; basic operations</a></div><div class=\"lev1 toc-item\"><a href=\"#Basic-control-structures-&amp;-functions\" data-toc-modified-id=\"Basic-control-structures-&amp;-functions-3\"><span class=\"toc-item-num\">3&nbsp;&nbsp;</span>Basic control structures &amp; functions</a></div>"
   ]
  },
  {
   "cell_type": "markdown",
   "metadata": {},
   "source": [
    "# Description"
   ]
  },
  {
   "cell_type": "markdown",
   "metadata": {},
   "source": [
    "Your task will be to solve simple tasks from Python basics.\n",
    "\n",
    "Each cell is filled with some code, that you can execute either by **pressing \"play\"** button on the top, or pressig **shift + enter** in cell\n",
    "\n",
    "Try to do this below:"
   ]
  },
  {
   "cell_type": "code",
   "execution_count": 1,
   "metadata": {},
   "outputs": [
    {
     "name": "stdout",
     "output_type": "stream",
     "text": [
      "hello!\n"
     ]
    }
   ],
   "source": [
    "print(\"hello!\")"
   ]
  },
  {
   "cell_type": "markdown",
   "metadata": {},
   "source": [
    "Now, almost every cell comes with **assert** statement - it describes, what **IS EXPECTED TO HAPPEN**.\n",
    "\n",
    "If everything is fine - you will pass.\n",
    "\n",
    "If something is wrong, you'll get an error."
   ]
  },
  {
   "cell_type": "markdown",
   "metadata": {},
   "source": [
    "Try below:"
   ]
  },
  {
   "cell_type": "code",
   "execution_count": 1,
   "metadata": {
    "collapsed": true
   },
   "outputs": [],
   "source": [
    "# this should be ok:\n",
    "\n",
    "assert(2 == 2)"
   ]
  },
  {
   "cell_type": "code",
   "execution_count": 2,
   "metadata": {},
   "outputs": [
    {
     "ename": "AssertionError",
     "evalue": "",
     "output_type": "error",
     "traceback": [
      "\u001b[0;31m---------------------------------------------------------------------------\u001b[0m",
      "\u001b[0;31mAssertionError\u001b[0m                            Traceback (most recent call last)",
      "\u001b[0;32m<ipython-input-2-43120f4916ca>\u001b[0m in \u001b[0;36m<module>\u001b[0;34m()\u001b[0m\n\u001b[1;32m      1\u001b[0m \u001b[0;31m# this throws an error:\u001b[0m\u001b[0;34m\u001b[0m\u001b[0;34m\u001b[0m\u001b[0m\n\u001b[1;32m      2\u001b[0m \u001b[0;34m\u001b[0m\u001b[0m\n\u001b[0;32m----> 3\u001b[0;31m \u001b[0;32massert\u001b[0m\u001b[0;34m(\u001b[0m\u001b[0;36m2\u001b[0m \u001b[0;34m==\u001b[0m \u001b[0;36m1\u001b[0m\u001b[0;34m)\u001b[0m\u001b[0;34m\u001b[0m\u001b[0m\n\u001b[0m",
      "\u001b[0;31mAssertionError\u001b[0m: "
     ]
    }
   ],
   "source": [
    "# this throws an error:\n",
    "\n",
    "assert(2 == 1)"
   ]
  },
  {
   "cell_type": "markdown",
   "metadata": {},
   "source": [
    "Your task is to fill the code with missing parts indicated by comments, to make all cells pass correctly"
   ]
  },
  {
   "cell_type": "markdown",
   "metadata": {},
   "source": [
    "Fill each **\"?\"** with proper values in order to make cell pass correctly"
   ]
  },
  {
   "cell_type": "markdown",
   "metadata": {},
   "source": [
    "** GOOD LUCK :) **"
   ]
  },
  {
   "cell_type": "markdown",
   "metadata": {},
   "source": [
    "# Variables assignment & basic operations"
   ]
  },
  {
   "cell_type": "code",
   "execution_count": 6,
   "metadata": {},
   "outputs": [],
   "source": [
    "# fill missing values to pass\n",
    "\n",
    "x = 'a'\n",
    "y = 1\n",
    "z = [1,2,3]\n",
    "\n",
    "\n",
    "assert(x == 'a')\n",
    "assert(y == 1)\n",
    "assert(z == [1, 2, 3])"
   ]
  },
  {
   "cell_type": "code",
   "execution_count": 9,
   "metadata": {
    "collapsed": true
   },
   "outputs": [],
   "source": [
    "# basic arithmetics. Shouldn't be hard :)\n",
    "x1 = 5\n",
    "x2 = '?'\n",
    "\n",
    "assert(x1 + x2 == 11)"
   ]
  },
  {
   "cell_type": "code",
   "execution_count": null,
   "metadata": {
    "collapsed": true
   },
   "outputs": [],
   "source": [
    "# powers operation\n",
    "x3 = 2\n",
    "x4 = '?'\n",
    "\n",
    "assert(x3 ** x4 == 8)"
   ]
  },
  {
   "cell_type": "code",
   "execution_count": 10,
   "metadata": {
    "collapsed": true
   },
   "outputs": [],
   "source": [
    "# string concatenation\n",
    "x5 = 'a'\n",
    "x6 = '?'\n",
    "\n",
    "assert(x5 + x6 == 'ab')"
   ]
  },
  {
   "cell_type": "code",
   "execution_count": null,
   "metadata": {
    "collapsed": true
   },
   "outputs": [],
   "source": [
    "my_list1 = ['a', 'b', 'c']\n",
    "# Do something with my_list1 to modify it\n",
    "\n",
    "assert(my_list1 == ['a', 'b', 'c', 'd'])"
   ]
  },
  {
   "cell_type": "code",
   "execution_count": null,
   "metadata": {
    "collapsed": true
   },
   "outputs": [],
   "source": [
    "# check if element 'b' is in my_list2\n",
    "\n",
    "my_list2 = ['a', 'b', 'c']\n",
    "assert('??' == True)"
   ]
  },
  {
   "cell_type": "code",
   "execution_count": null,
   "metadata": {
    "collapsed": true
   },
   "outputs": [],
   "source": [
    "# concatenate two lists\n",
    "\n",
    "my_list3 = ['a', 'b']\n",
    "my_list4 = ['c', 'd']\n",
    "my_list5 = '??'\n",
    "\n",
    "assert(my_list5 == ['a', 'b', 'c', 'd'])"
   ]
  },
  {
   "cell_type": "code",
   "execution_count": null,
   "metadata": {
    "collapsed": true
   },
   "outputs": [],
   "source": [
    "# Use proper list indexing operations\n",
    "\n",
    "my_list6 = ['a', 'b', 'c', 'd', 'e']\n",
    "\n",
    "assert('??' == 'a')\n",
    "assert('??' == 'b')\n",
    "assert('??' == 'c')\n",
    "assert('??' == 'd')"
   ]
  },
  {
   "cell_type": "code",
   "execution_count": null,
   "metadata": {
    "collapsed": true
   },
   "outputs": [],
   "source": [
    "# create dictionary\n",
    "my_dict1 = '??'\n",
    "\n",
    "assert(my_dict1 == {'a': 1, 'b':2, 'c': 3})"
   ]
  },
  {
   "cell_type": "code",
   "execution_count": 20,
   "metadata": {
    "collapsed": true
   },
   "outputs": [],
   "source": [
    "# add element to dictionary\n",
    "my_dict2 = {'a': 1, 'b': 2}\n",
    "# ??\n",
    "\n",
    "assert(my_dict2 == {'a': 1, 'b': 2, 'c': 3})"
   ]
  },
  {
   "cell_type": "markdown",
   "metadata": {},
   "source": [
    "# Basic control structures & functions"
   ]
  },
  {
   "cell_type": "code",
   "execution_count": null,
   "metadata": {
    "collapsed": true
   },
   "outputs": [],
   "source": [
    "# fill function so it returns correct value\n",
    "\n",
    "def add_it(a, b):\n",
    "    return '????'\n",
    "\n",
    "assert(add_it(1, 2) == 3)"
   ]
  },
  {
   "cell_type": "code",
   "execution_count": 14,
   "metadata": {
    "collapsed": true
   },
   "outputs": [],
   "source": [
    "# fill function so it returns correct value\n",
    "\n",
    "def multiply_it(a, b):\n",
    "    return '???'\n",
    "\n",
    "assert(multiply_it(2, 3) == 6)"
   ]
  },
  {
   "cell_type": "code",
   "execution_count": null,
   "metadata": {
    "collapsed": true
   },
   "outputs": [],
   "source": [
    "# fill function so it returns correct value\n",
    "\n",
    "def is_bigger_than(a, b):\n",
    "    return '???'\n",
    "\n",
    "assert(is_bigger_than(1, 2) == False)"
   ]
  },
  {
   "cell_type": "code",
   "execution_count": 18,
   "metadata": {
    "collapsed": true
   },
   "outputs": [],
   "source": [
    "# fill control structure and function with proper values, so it returns correct value\n",
    "\n",
    "x = 5\n",
    "y = '?'\n",
    "\n",
    "def is_1st_lower_than_2nd(a, b):\n",
    "    if '???':\n",
    "        return \"1st is lower than 2nd\"\n",
    "    else:\n",
    "        return \"1st is bigger 2nd\"\n",
    "    \n",
    "assert(is_1st_lower_than_2nd(x, y) == \"1st is bigger 2nd\")"
   ]
  },
  {
   "cell_type": "code",
   "execution_count": null,
   "metadata": {
    "collapsed": true
   },
   "outputs": [],
   "source": [
    "# fill nested if - else statements\n",
    "\n",
    "x = '?'\n",
    "y = '?'\n",
    "z = '?'\n",
    "\n",
    "def multiple_ifs(a, b, c):\n",
    "    if '?':\n",
    "        return \"c < a\"\n",
    "    elif '?':\n",
    "        return \"c < b\"\n",
    "    else:\n",
    "        return \"c > [a, b]\"\n",
    "    \n",
    "assert(multiple_ifs(x, y, z) == 'c > [a, b]')"
   ]
  },
  {
   "cell_type": "code",
   "execution_count": 27,
   "metadata": {
    "collapsed": true
   },
   "outputs": [],
   "source": [
    "# sum all numbers in a list\n",
    "\n",
    "total = 0\n",
    "lst = [1,2,3]\n",
    "for num in lst:\n",
    "    # do something here\n",
    "    \n",
    "assert(total == '??')"
   ]
  },
  {
   "cell_type": "code",
   "execution_count": 28,
   "metadata": {
    "collapsed": true
   },
   "outputs": [],
   "source": [
    "# sum all numers which are evenly divisible by 2\n",
    "\n",
    "total = 0\n",
    "lst = [1, 2, 3, 4, 5, 6]\n",
    "for num in lst:\n",
    "    if '?':\n",
    "        total += num\n",
    "        \n",
    "assert(total == 12)"
   ]
  },
  {
   "cell_type": "code",
   "execution_count": 7,
   "metadata": {},
   "outputs": [
    {
     "data": {
      "text/plain": [
       "3"
      ]
     },
     "execution_count": 7,
     "metadata": {},
     "output_type": "execute_result"
    }
   ],
   "source": [
    "x = 1\n",
    "y= 2\n",
    "\n",
    "\n",
    "def addit(a, b):\n",
    "    return a+b\n",
    "\n",
    "addit(x, y)"
   ]
  },
  {
   "cell_type": "code",
   "execution_count": 8,
   "metadata": {},
   "outputs": [
    {
     "data": {
      "text/plain": [
       "True"
      ]
     },
     "execution_count": 8,
     "metadata": {},
     "output_type": "execute_result"
    }
   ],
   "source": [
    "txt = \"AAA bbb ccc\"\n",
    "b\n",
    "\"bbb\" in txt"
   ]
  },
  {
   "cell_type": "code",
   "execution_count": 11,
   "metadata": {},
   "outputs": [
    {
     "name": "stdout",
     "output_type": "stream",
     "text": [
      "10\n",
      "110\n"
     ]
    }
   ],
   "source": [
    "def doit(x, y):\n",
    "    return x+5, y+10\n",
    "\n",
    "part1, part2 =  doit(5, 100)\n",
    "print(part1)\n",
    "print(part2)"
   ]
  },
  {
   "cell_type": "code",
   "execution_count": null,
   "metadata": {
    "collapsed": true
   },
   "outputs": [],
   "source": [
    "# iterate keys in dictionary. Sum only those values for which key contains word: \"OK\"\n",
    "my_dict = {\n",
    "    'OK1': 1,\n",
    "    'NO1': 2,\n",
    "    'OK2': 3,\n",
    "    'NO2': 4\n",
    "}\n",
    "\n",
    "total = 0\n",
    "for '??' in '??':\n",
    "    if '??':\n",
    "        total += '??'\n",
    "        \n",
    "assert(total == 4)        "
   ]
  },
  {
   "cell_type": "code",
   "execution_count": null,
   "metadata": {
    "collapsed": true
   },
   "outputs": [],
   "source": [
    "# write a function that does the following:\n",
    "# take input x, y, z\n",
    "# if y not equal 0: divide x by y, otherwise return z\n",
    "\n",
    "def do_it(x, y, z):\n",
    "    return '???'\n",
    "\n",
    "assert(do_it(10, 5, 1) == 2)\n",
    "assert(do_it(10, 0, 1) == 1)"
   ]
  },
  {
   "cell_type": "code",
   "execution_count": 31,
   "metadata": {
    "collapsed": true
   },
   "outputs": [],
   "source": [
    "# write a function that will iterate array and will sum separately: even numbers and odd numbers\n",
    "# return a TUPLE containing two elements: sum of evens and sum of odds\n",
    "\n",
    "my_list = [1, 2, 3, 4, 5, 6]\n",
    "\n",
    "def summator(lst):\n",
    "    # do something here\n",
    "    return '?', '?'\n",
    "\n",
    "evens_sum, odds_sum = summator(my_list)\n",
    "assert(evens_sum == 12)\n",
    "assert(odds_sum == 9)"
   ]
  },
  {
   "cell_type": "code",
   "execution_count": null,
   "metadata": {
    "collapsed": true
   },
   "outputs": [],
   "source": [
    "# write a function that will iterate array and will collect separately odd and even numbers. \n",
    "# Funciton should return two lists\n",
    "\n",
    "my_list = [1, 2, 3, 4, 5, 6]\n",
    "\n",
    "def collector(lst):\n",
    "    \n",
    "    \n",
    "evens, odds = collector(my_list)\n",
    "assert(evens == [2, 4, 6])\n",
    "assert(odds == [1, 3, 5])"
   ]
  },
  {
   "cell_type": "code",
   "execution_count": null,
   "metadata": {
    "collapsed": true
   },
   "outputs": [],
   "source": []
  }
 ],
 "metadata": {
  "kernelspec": {
   "display_name": "Python 3",
   "language": "python",
   "name": "python3"
  },
  "language_info": {
   "codemirror_mode": {
    "name": "ipython",
    "version": 3
   },
   "file_extension": ".py",
   "mimetype": "text/x-python",
   "name": "python",
   "nbconvert_exporter": "python",
   "pygments_lexer": "ipython3",
   "version": "3.6.1"
  },
  "toc": {
   "colors": {
    "hover_highlight": "#DAA520",
    "navigate_num": "#000000",
    "navigate_text": "#333333",
    "running_highlight": "#FF0000",
    "selected_highlight": "#FFD700",
    "sidebar_border": "#EEEEEE",
    "wrapper_background": "#FFFFFF"
   },
   "moveMenuLeft": true,
   "nav_menu": {
    "height": "66px",
    "width": "252px"
   },
   "navigate_menu": true,
   "number_sections": false,
   "sideBar": true,
   "threshold": 4,
   "toc_cell": true,
   "toc_position": {
    "height": "649px",
    "left": "0px",
    "right": "988px",
    "top": "106px",
    "width": "212px"
   },
   "toc_section_display": "block",
   "toc_window_display": false,
   "widenNotebook": false
  }
 },
 "nbformat": 4,
 "nbformat_minor": 2
}
